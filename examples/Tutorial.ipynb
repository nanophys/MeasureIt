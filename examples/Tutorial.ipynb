{
 "cells": [
  {
   "cell_type": "markdown",
   "metadata": {},
   "source": [
    "# Tutorial: Table of content:\n",
    "1. [Quick start](content/quick%20start.ipynb): a quick introduction about the featured sweep functions. \n",
    "2. [Set up of a  measurement](content/measurement.ipynb): connection to everyone's lab equipment! \n",
    "3. [How to prepare the driver](content/prepare%20drivers.ipynb): tips about user defined drivers. Read qcodes manual [here](https://qcodes.github.io/Qcodes/examples/writing_drivers/Creating-Instrument-Drivers.html) first!\n",
    "4. [Data post-processing](content/data%20processing.ipynb): how to perform data processing in python or output to matlab/origin readable files. "
   ]
  },
  {
   "cell_type": "code",
   "execution_count": null,
   "metadata": {},
   "outputs": [],
   "source": []
  }
 ],
 "metadata": {
  "kernelspec": {
   "display_name": "Python 3 (ipykernel)",
   "language": "python",
   "name": "python3"
  },
  "language_info": {
   "codemirror_mode": {
    "name": "ipython",
    "version": 3
   },
   "file_extension": ".py",
   "mimetype": "text/x-python",
   "name": "python",
   "nbconvert_exporter": "python",
   "pygments_lexer": "ipython3",
   "version": "3.11.9"
  }
 },
 "nbformat": 4,
 "nbformat_minor": 4
}
