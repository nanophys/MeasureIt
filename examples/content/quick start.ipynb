{
 "cells": [
  {
   "cell_type": "markdown",
   "metadata": {},
   "source": [
    "# Tutorial: Quick start\n",
    "Author info: Jiaqi Cai@Department of Physics, University of Washington, Seattle, WA 98195, email address caidish[at]uw.edu.\n",
    "\n",
    "This tutorial shows how to use this package to do all the data acqusition from:\n",
    "- Sweep0D: monitor all the *follow_params* followed parameters as a function of system time. \n",
    "- Sweep1D: monitor all the followed parameters when sweeping one paramter. This sweep1D can do sweep one-way or back-and-forth, or continously. \n",
    "- Sweep2D: monitor all the followed parameters when sweeping two paramters in a back-and-forth scan. The inner parameter will be swept back and forth and outer parameter will step when one loop finished. \n",
    "- SimuSweep: same as sweep1D, but two parameters could be scanned simutaneously. \n",
    "- SweepQueue: consist of the queue of sweep0D, sweep1D, sweep2D and SimuSweep and any user defined function. The sweeps will be run one by one.\n",
    "\n",
    "I will use the MockParabola function from qcodes' test instrument. The simulated device Mockparabola has main parameters *parabola*, *x*,*y*,*z* and *noise*. The output parabola is a quadric function of x,y,z in the presence of noise. "
   ]
  },
  {
   "cell_type": "markdown",
   "metadata": {},
   "source": [
    "## Import essential modules"
   ]
  },
  {
   "cell_type": "code",
   "execution_count": null,
   "metadata": {},
   "outputs": [],
   "source": [
    "import os\n",
    "import sys\n",
    "from pathlib import Path\n",
    "# add package home to the path\n",
    "module_path = os.environ['MeasureItHome']\n",
    "if module_path not in sys.path:\n",
    "    sys.path.append(module_path)\n",
    "\n",
    "import time\n",
    "import qcodes as qc\n",
    "from qcodes import Measurement, initialise_or_create_database_at\n",
    "from qcodes.instrument_drivers.mock_instruments import MockParabola\n",
    "# import modules. To be apparent, no relative import using '__init__.py' is used. \n",
    "from MeasureIt.sweep0d import Sweep0D\n",
    "from MeasureIt.sweep1d import Sweep1D\n",
    "from MeasureIt.sweep2d import Sweep2D\n",
    "from MeasureIt.util import init_database\n",
    "from MeasureIt.tracking import *\n",
    "from MeasureIt.sweep_queue import SweepQueue, DatabaseEntry\n",
    "from MeasureIt.simul_sweep import SimulSweep"
   ]
  },
  {
   "cell_type": "markdown",
   "metadata": {},
   "source": [
    "## Define the instrument(s)\n",
    "\n",
    "We imported a test instrument 'MockParabola' from qcodes' tests. Other supported drivers could be found in [qcodes driver list](https://github.com/QCoDeS/Qcodes/tree/master/qcodes/instrument_drivers) and [contributed driver list](https://github.com/QCoDeS/Qcodes_contrib_drivers/tree/master/qcodes_contrib_drivers/drivers). We also have some user contributed driver (e.g. old lakeshore)"
   ]
  },
  {
   "cell_type": "code",
   "execution_count": null,
   "metadata": {},
   "outputs": [],
   "source": [
    "instr0 = MockParabola(name = 'test_instrument0')\n",
    "instr0.noise.set(3)\n",
    "instr0.parabola.label = 'Value of instr0'\n",
    "instr1 = MockParabola(name = 'test_instrument1')\n",
    "instr1.noise.set(10)\n",
    "instr1.parabola.label = 'Value of instr1'"
   ]
  },
  {
   "cell_type": "markdown",
   "metadata": {},
   "source": [
    "What we do is to create two instances of MockParabola. In other cases when people need to deal with multiple instruments, they can be imported and defined one by one. For parameters, the 'label' property will appear as the y-axis name when we dynamically display the measurement result. "
   ]
  },
  {
   "cell_type": "markdown",
   "metadata": {},
   "source": [
    "## Sweep 0d to monitor the noise"
   ]
  },
  {
   "cell_type": "code",
   "execution_count": null,
   "metadata": {},
   "outputs": [],
   "source": [
    "s = Sweep0D(inter_delay=0.1, save_data=True,plot_bin = 4, max_time = 100)# inter_delay is the delay after qcodes collecting all data. inter_delay = 0.05 corresponds to a maximum sampling rate @200S/s.\n",
    "follow_params = { #Define which parameters you want to follow (plot and/or save)\n",
    "    instr0.parabola,\n",
    "    instr1.parabola,\n",
    "}\n",
    "s.follow_param(*follow_params)"
   ]
  },
  {
   "cell_type": "markdown",
   "metadata": {},
   "source": [
    "The 0d sweep which monitors the output will last for max_time (in unit of seconds), which now is set as 100s. "
   ]
  },
  {
   "cell_type": "code",
   "execution_count": null,
   "metadata": {},
   "outputs": [],
   "source": [
    "try:\n",
    "    # Make sure database_name and the path are set to the correct values!\n",
    "    database_name = \"testdatabase.db\"\n",
    "    exp_name = \"testsweep\";\n",
    "    sample_name='test0d';\n",
    "    init_database(database_name, exp_name, sample_name, s)\n",
    "except:\n",
    "    print(\"Error opening database\")"
   ]
  },
  {
   "cell_type": "code",
   "execution_count": null,
   "metadata": {},
   "outputs": [],
   "source": [
    "print(s)"
   ]
  },
  {
   "cell_type": "code",
   "execution_count": null,
   "metadata": {},
   "outputs": [],
   "source": [
    "%matplotlib qt\n",
    "s.start()"
   ]
  },
  {
   "cell_type": "markdown",
   "metadata": {},
   "source": [
    "Before the max_time reaches, one way to stop is to use ESC on your keyboard. Another way to stop it is run the code below. **Note that closing the plotter's window doesn't neccessarity stops the data acquisition.**"
   ]
  },
  {
   "cell_type": "code",
   "execution_count": null,
   "metadata": {},
   "outputs": [],
   "source": [
    "s.is_running"
   ]
  },
  {
   "cell_type": "code",
   "execution_count": null,
   "metadata": {},
   "outputs": [],
   "source": [
    "s.stop()"
   ]
  },
  {
   "cell_type": "markdown",
   "metadata": {},
   "source": [
    "When the sweep is running on the background, however, although the data is acquired in another process, the plotting is still requiring CPU time from this notebook's thread. time.sleep() will pause the plotting but preassumely not the data acquisition. "
   ]
  },
  {
   "cell_type": "markdown",
   "metadata": {},
   "source": [
    "## Sweep 1d\n",
    "The sweep 1d function takes one parameter import, which is instr0's x parameter.\n",
    "It also requires a start point, end point, rate. **If the parameter is not at 'start', it will safely sweep to 'start' with the rate, making sure there is no jump in any physical instrument.**"
   ]
  },
  {
   "cell_type": "code",
   "execution_count": null,
   "metadata": {},
   "outputs": [],
   "source": [
    "start = 0\n",
    "end = 10\n",
    "rate = 0.02\n",
    "s = Sweep1D(instr0.x, start, end, rate, inter_delay=0.05, save_data=True, bidirectional=True,plot_bin = 4,continual = False)\n",
    "follow_params = { #Define which parameters you want to follow (plot and/or save)\n",
    "    instr0.parabola,\n",
    "    instr1.parabola,\n",
    "}\n",
    "s.follow_param(*follow_params)"
   ]
  },
  {
   "cell_type": "code",
   "execution_count": null,
   "metadata": {},
   "outputs": [],
   "source": [
    "s._params[1]"
   ]
  },
  {
   "cell_type": "code",
   "execution_count": null,
   "metadata": {},
   "outputs": [],
   "source": [
    "try:\n",
    "    # Make sure database_name and the path are set to the correct values!\n",
    "    database_name = \"testdatabase.db\"\n",
    "    exp_name = \"testsweep\";\n",
    "    sample_name='test1d';\n",
    "    init_database(database_name, exp_name, sample_name, s)\n",
    "except:\n",
    "    print(\"Error opening database\")"
   ]
  },
  {
   "cell_type": "code",
   "execution_count": null,
   "metadata": {},
   "outputs": [],
   "source": [
    "print(s)"
   ]
  },
  {
   "cell_type": "code",
   "execution_count": null,
   "metadata": {},
   "outputs": [],
   "source": [
    "%matplotlib qt\n",
    "s.start()"
   ]
  },
  {
   "cell_type": "markdown",
   "metadata": {},
   "source": [
    "During the scan, like sweep0d, there are multiple ways to stop it. Besides, the 'spacebar' could revert the scanning axis. "
   ]
  },
  {
   "cell_type": "code",
   "execution_count": null,
   "metadata": {},
   "outputs": [],
   "source": [
    "s.stop()"
   ]
  },
  {
   "cell_type": "markdown",
   "metadata": {},
   "source": [
    "## Simulsweep\n",
    "The simulsweep function mimics sweep 1D but take two different parameter. The step must be set correctly that the total steps for each parameters are equal. "
   ]
  },
  {
   "cell_type": "code",
   "execution_count": null,
   "metadata": {},
   "outputs": [],
   "source": [
    "parameter_dict_forward = {\n",
    "    instr0.x : {'start' : 0, 'stop' : 5, 'step' : 0.02},\n",
    "    instr1.x : {'start' : 0, 'stop' : 10, 'step' : 0.04}\n",
    "}\n",
    "sweep_args = {\n",
    "    'bidirectional':True,\n",
    "    'plot_bin' : 4,\n",
    "    'continual' : False,\n",
    "    'save_data': True,\n",
    "    'inter_delay': 0.05,\n",
    "}\n",
    "s = SimulSweep(parameter_dict_forward, **sweep_args) #Likely want to save this sweep\n",
    "follow_params = { #Define which parameters you want to follow (plot and/or save)\n",
    "    instr0.parabola,\n",
    "    instr1.parabola,\n",
    "}\n",
    "s.follow_param(*follow_params)"
   ]
  },
  {
   "cell_type": "code",
   "execution_count": null,
   "metadata": {},
   "outputs": [],
   "source": [
    "try:\n",
    "    # Make sure database_name and the path are set to the correct values!\n",
    "    database_name = \"testdatabase.db\"\n",
    "    exp_name = \"testsweep\";\n",
    "    sample_name='test1d';\n",
    "    init_database(database_name, exp_name, sample_name, s)\n",
    "except:\n",
    "    print(\"Error opening database\")"
   ]
  },
  {
   "cell_type": "code",
   "execution_count": null,
   "metadata": {},
   "outputs": [],
   "source": [
    "%matplotlib qt\n",
    "s.start()"
   ]
  },
  {
   "cell_type": "code",
   "execution_count": null,
   "metadata": {},
   "outputs": [],
   "source": [
    "s.stop()"
   ]
  },
  {
   "cell_type": "markdown",
   "metadata": {},
   "source": [
    "## Sweep Queue\n",
    "The most important application of this code is that you can freely stack all sweep types and user defined function together. Here I will show a sweepqueue that:\n",
    "- sweep instr0's x from 0 to 5\n",
    "- print a dummy string 1\n",
    "- sweep instr1's x and y from 0 to 5\n",
    "- print a dummy string 2"
   ]
  },
  {
   "cell_type": "code",
   "execution_count": null,
   "metadata": {},
   "outputs": [],
   "source": [
    "def dummystring(index):\n",
    "    if index == 1:\n",
    "        print('Lorem ipsum dolor sit amet, consectetur adipiscing elit.')\n",
    "    elif index == 2:\n",
    "        print('Ut enim ad minim veniam, quis nostrud exercitation ullamco laboris nisi ut aliquip ex ea commodo consequat.')"
   ]
  },
  {
   "cell_type": "code",
   "execution_count": null,
   "metadata": {},
   "outputs": [],
   "source": [
    "sq = SweepQueue()\n",
    "follow_params = { #Define which parameters you want to follow (plot and/or save)\n",
    "    instr0.parabola,\n",
    "    instr1.parabola,\n",
    "}"
   ]
  },
  {
   "cell_type": "markdown",
   "metadata": {},
   "source": [
    "SweepQueue accept sweep object and associated database if save_data is set to be True. \n",
    "\n",
    "The += operator is overload for SweepQueue, so that the sweep,databaseentry tuple pair can be directly added into it. Same thing as the append function"
   ]
  },
  {
   "cell_type": "code",
   "execution_count": null,
   "metadata": {},
   "outputs": [],
   "source": [
    "# set up the sweep\n",
    "start = 0\n",
    "end = 5\n",
    "rate = 0.2\n",
    "s1 = Sweep1D(instr0.x, start, end, rate, inter_delay=0.2, save_data=True, bidirectional=True,plot_bin = 4,continual = False)\n",
    "s1.follow_param(*follow_params)\n",
    "\n",
    "db_name = 'testdatabase.db'\n",
    "db_path = str(Path(f'{os.environ[\"MeasureItHome\"]}/Databases/'+db_name))  \n",
    "exp_name = \"testsweepqueue\";\n",
    "sample_name='test1d';\n",
    "\n",
    "# set up the database \n",
    "db_entry = DatabaseEntry(db_path, exp_name, sample_name)\n",
    "sq +=(db_entry,s1)"
   ]
  },
  {
   "cell_type": "code",
   "execution_count": null,
   "metadata": {},
   "outputs": [],
   "source": [
    "# add dummy string print\n",
    "sq +=(dummystring,1)"
   ]
  },
  {
   "cell_type": "code",
   "execution_count": null,
   "metadata": {},
   "outputs": [],
   "source": [
    "# set up the sweep\n",
    "parameter_dict_forward = {\n",
    "    instr0.x : {'start' : 0, 'stop' : 5, 'step' : 0.02},\n",
    "    instr0.y : {'start' : 0, 'stop' : 5, 'step' : 0.02}\n",
    "}\n",
    "sweep_args = {\n",
    "    'bidirectional':True,\n",
    "    'plot_bin' : 4,\n",
    "    'continual' : False,\n",
    "    'save_data': True,\n",
    "    'inter_delay': 0.1,\n",
    "}\n",
    "s2 = SimulSweep(parameter_dict_forward, **sweep_args) #Likely want to save this sweep\n",
    "s2.follow_param(*follow_params)\n",
    "db_name = 'testdatabase.db'\n",
    "db_path = str(Path(f'{os.environ[\"MeasureItHome\"]}/Databases/'+db_name))  \n",
    "exp_name = \"testsweepqueue\";\n",
    "sample_name='testsimulsweep';\n",
    "\n",
    "# set up the database \n",
    "db_entry = DatabaseEntry(db_path, exp_name, sample_name)\n",
    "sq +=(db_entry,s2)"
   ]
  },
  {
   "cell_type": "code",
   "execution_count": null,
   "metadata": {},
   "outputs": [],
   "source": [
    "# add dummy string print\n",
    "sq +=(dummystring,2)"
   ]
  },
  {
   "cell_type": "markdown",
   "metadata": {},
   "source": [
    "The SweepQueue is iterable, so you can iterate it and print every one's name"
   ]
  },
  {
   "cell_type": "code",
   "execution_count": null,
   "metadata": {},
   "outputs": [],
   "source": [
    "for n,s in enumerate(sq):\n",
    "    print(str(n)+'. '+str(s))"
   ]
  },
  {
   "cell_type": "code",
   "execution_count": null,
   "metadata": {},
   "outputs": [],
   "source": [
    "%matplotlib qt\n",
    "sq.start()"
   ]
  },
  {
   "cell_type": "code",
   "execution_count": null,
   "metadata": {},
   "outputs": [],
   "source": [
    "sq.stop()"
   ]
  },
  {
   "cell_type": "markdown",
   "metadata": {},
   "source": [
    "## Sweep 2D\n",
    "The 2D sweep, which is sweeping one parameter back and forth and then step one of the parameter, could be easily achieved by using sweep queue. \n",
    "Sweep2d is a good substitute of sweepqueue (though many users still use sweepqueue for 2D sweep) if you only want to take a 2d map in a single file. Here we will sweep Mockparabola's x and y to generate a 2d map. "
   ]
  },
  {
   "cell_type": "code",
   "execution_count": null,
   "metadata": {},
   "outputs": [],
   "source": [
    "# define 2d map\n",
    "outer_para = instr0.y\n",
    "outer_dv = 0.5\n",
    "outer_start = -2.5\n",
    "outer_end = 2.5\n",
    "\n",
    "inner_para = instr0.x\n",
    "inner_dv = 0.1\n",
    "inner_start = -2.5\n",
    "inner_end = 2.5\n",
    "\n",
    "multiplier = 4\n",
    "inter_delay = 0.1\n",
    "outer_delay = 1\n",
    "s = Sweep2D([inner_para,inner_start,inner_end,inner_dv],\n",
    "            [outer_para,outer_start,outer_end,outer_dv],\n",
    "            inter_delay=inter_delay, outer_delay=outer_delay, save_data=True, plot_data=True,\n",
    "                 complete_func=None, update_func=None, plot_bin=5, back_multiplier=multiplier,out_ministeps=1)\n",
    "follow_params = { #Define which parameters you want to follow (plot and/or save)\n",
    "        instr0.parabola,\n",
    "        instr1.parabola,\n",
    "}\n",
    "s.follow_param(*follow_params)\n",
    "print(s)"
   ]
  },
  {
   "cell_type": "code",
   "execution_count": null,
   "metadata": {
    "scrolled": true
   },
   "outputs": [],
   "source": [
    "# define the parameter to follow by the heatmap\n",
    "s.follow_heatmap_param([instr0.parabola,instr1.parabola])"
   ]
  },
  {
   "cell_type": "code",
   "execution_count": null,
   "metadata": {},
   "outputs": [],
   "source": [
    "print(s)"
   ]
  },
  {
   "cell_type": "code",
   "execution_count": null,
   "metadata": {},
   "outputs": [],
   "source": []
  },
  {
   "cell_type": "code",
   "execution_count": null,
   "metadata": {},
   "outputs": [],
   "source": [
    "try:\n",
    "    # Make sure database_name and the path are set to the correct values!\n",
    "    database_name = \"testdatabase.db\"\n",
    "    exp_name = \"testsweep\";\n",
    "    sample_name='test2d';\n",
    "    init_database(database_name, exp_name, sample_name, s)\n",
    "except:\n",
    "    print(\"Error opening database\")"
   ]
  },
  {
   "cell_type": "code",
   "execution_count": null,
   "metadata": {
    "scrolled": true
   },
   "outputs": [],
   "source": [
    "%matplotlib qt\n",
    "s.start()"
   ]
  },
  {
   "cell_type": "code",
   "execution_count": null,
   "metadata": {},
   "outputs": [],
   "source": [
    "s.is_running"
   ]
  },
  {
   "cell_type": "code",
   "execution_count": null,
   "metadata": {},
   "outputs": [],
   "source": [
    "s.stop()"
   ]
  },
  {
   "cell_type": "markdown",
   "metadata": {},
   "source": [
    "## Combined parameters"
   ]
  },
  {
   "cell_type": "code",
   "execution_count": null,
   "metadata": {},
   "outputs": [],
   "source": []
  }
 ],
 "metadata": {
  "kernelspec": {
   "display_name": "Python 3 (ipykernel)",
   "language": "python",
   "name": "python3"
  },
  "language_info": {
   "codemirror_mode": {
    "name": "ipython",
    "version": 3
   },
   "file_extension": ".py",
   "mimetype": "text/x-python",
   "name": "python",
   "nbconvert_exporter": "python",
   "pygments_lexer": "ipython3",
   "version": "3.11.9"
  }
 },
 "nbformat": 4,
 "nbformat_minor": 4
}
